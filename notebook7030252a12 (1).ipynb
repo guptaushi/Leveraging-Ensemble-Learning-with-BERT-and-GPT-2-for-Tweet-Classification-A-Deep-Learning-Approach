{
 "cells": [
  {
   "cell_type": "markdown",
   "id": "2525a3c0",
   "metadata": {
    "id": "zGCJYkQj_Uu2",
    "papermill": {
     "duration": 0.011337,
     "end_time": "2024-04-03T16:38:44.647909",
     "exception": false,
     "start_time": "2024-04-03T16:38:44.636572",
     "status": "completed"
    },
    "tags": []
   },
   "source": [
    "<h2 align=center> <b><u> Fine-Tuned BERT for Sentiment Analysis on the Sentiment140 Dataset </u></b>\n",
    "</h2>"
   ]
  },
  {
   "cell_type": "markdown",
   "id": "83f4fc3c",
   "metadata": {
    "id": "mpe6GhLuBJWB",
    "papermill": {
     "duration": 0.01067,
     "end_time": "2024-04-03T16:38:44.669599",
     "exception": false,
     "start_time": "2024-04-03T16:38:44.658929",
     "status": "completed"
    },
    "tags": []
   },
   "source": [
    "### 1. Check GPU Availability and install dependencies"
   ]
  },
  {
   "cell_type": "code",
   "execution_count": 1,
   "id": "556a7a0a",
   "metadata": {
    "execution": {
     "iopub.execute_input": "2024-04-03T16:38:44.692878Z",
     "iopub.status.busy": "2024-04-03T16:38:44.692519Z",
     "iopub.status.idle": "2024-04-03T16:38:45.760568Z",
     "shell.execute_reply": "2024-04-03T16:38:45.759473Z"
    },
    "id": "8V9c8vzSL3aj",
    "outputId": "cc54afaa-d2fa-429f-8228-863c8423d1b6",
    "papermill": {
     "duration": 1.082441,
     "end_time": "2024-04-03T16:38:45.762842",
     "exception": false,
     "start_time": "2024-04-03T16:38:44.680401",
     "status": "completed"
    },
    "tags": []
   },
   "outputs": [
    {
     "name": "stdout",
     "output_type": "stream",
     "text": [
      "Wed Apr  3 16:38:45 2024       \r\n",
      "+---------------------------------------------------------------------------------------+\r\n",
      "| NVIDIA-SMI 535.129.03             Driver Version: 535.129.03   CUDA Version: 12.2     |\r\n",
      "|-----------------------------------------+----------------------+----------------------+\r\n",
      "| GPU  Name                 Persistence-M | Bus-Id        Disp.A | Volatile Uncorr. ECC |\r\n",
      "| Fan  Temp   Perf          Pwr:Usage/Cap |         Memory-Usage | GPU-Util  Compute M. |\r\n",
      "|                                         |                      |               MIG M. |\r\n",
      "|=========================================+======================+======================|\r\n",
      "|   0  Tesla T4                       Off | 00000000:00:04.0 Off |                    0 |\r\n",
      "| N/A   56C    P8              10W /  70W |      0MiB / 15360MiB |      0%      Default |\r\n",
      "|                                         |                      |                  N/A |\r\n",
      "+-----------------------------------------+----------------------+----------------------+\r\n",
      "|   1  Tesla T4                       Off | 00000000:00:05.0 Off |                    0 |\r\n",
      "| N/A   50C    P8              10W /  70W |      0MiB / 15360MiB |      0%      Default |\r\n",
      "|                                         |                      |                  N/A |\r\n",
      "+-----------------------------------------+----------------------+----------------------+\r\n",
      "                                                                                         \r\n",
      "+---------------------------------------------------------------------------------------+\r\n",
      "| Processes:                                                                            |\r\n",
      "|  GPU   GI   CI        PID   Type   Process name                            GPU Memory |\r\n",
      "|        ID   ID                                                             Usage      |\r\n",
      "|=======================================================================================|\r\n",
      "|  No running processes found                                                           |\r\n",
      "+---------------------------------------------------------------------------------------+\r\n"
     ]
    }
   ],
   "source": [
    "!nvidia-smi"
   ]
  },
  {
   "cell_type": "code",
   "execution_count": 2,
   "id": "aea59007",
   "metadata": {
    "_kg_hide-input": true,
    "_kg_hide-output": true,
    "execution": {
     "iopub.execute_input": "2024-04-03T16:38:45.787999Z",
     "iopub.status.busy": "2024-04-03T16:38:45.787186Z",
     "iopub.status.idle": "2024-04-03T16:39:01.465957Z",
     "shell.execute_reply": "2024-04-03T16:39:01.465151Z"
    },
    "papermill": {
     "duration": 15.694077,
     "end_time": "2024-04-03T16:39:01.468254",
     "exception": false,
     "start_time": "2024-04-03T16:38:45.774177",
     "status": "completed"
    },
    "tags": []
   },
   "outputs": [
    {
     "name": "stderr",
     "output_type": "stream",
     "text": [
      "2024-04-03 16:38:47.987653: E external/local_xla/xla/stream_executor/cuda/cuda_dnn.cc:9261] Unable to register cuDNN factory: Attempting to register factory for plugin cuDNN when one has already been registered\n",
      "2024-04-03 16:38:47.987775: E external/local_xla/xla/stream_executor/cuda/cuda_fft.cc:607] Unable to register cuFFT factory: Attempting to register factory for plugin cuFFT when one has already been registered\n",
      "2024-04-03 16:38:48.151653: E external/local_xla/xla/stream_executor/cuda/cuda_blas.cc:1515] Unable to register cuBLAS factory: Attempting to register factory for plugin cuBLAS when one has already been registered\n"
     ]
    }
   ],
   "source": [
    "# !pip install tensorflow_text\n",
    "import tensorflow_text as text  # Registers the ops.\n",
    "\n",
    "\n",
    "# After running this cell, we have to restart the Kernel and after restarting run this cell once again!"
   ]
  },
  {
   "cell_type": "markdown",
   "id": "242bd43e",
   "metadata": {
    "id": "IMsEoT3Fg4Wg",
    "papermill": {
     "duration": 0.010717,
     "end_time": "2024-04-03T16:39:01.490164",
     "exception": false,
     "start_time": "2024-04-03T16:39:01.479447",
     "status": "completed"
    },
    "tags": []
   },
   "source": [
    "### 2. Import the Quora Insincere Questions Dataset"
   ]
  },
  {
   "cell_type": "code",
   "execution_count": 3,
   "id": "1f78d9e8",
   "metadata": {
    "execution": {
     "iopub.execute_input": "2024-04-03T16:39:01.514027Z",
     "iopub.status.busy": "2024-04-03T16:39:01.512996Z",
     "iopub.status.idle": "2024-04-03T16:39:01.792400Z",
     "shell.execute_reply": "2024-04-03T16:39:01.791521Z"
    },
    "id": "GmqEylyFYTdP",
    "outputId": "8e9f0646-e8d5-4279-9da5-2e66298f6762",
    "papermill": {
     "duration": 0.293895,
     "end_time": "2024-04-03T16:39:01.794864",
     "exception": false,
     "start_time": "2024-04-03T16:39:01.500969",
     "status": "completed"
    },
    "tags": []
   },
   "outputs": [],
   "source": [
    "import numpy as np\n",
    "import tensorflow as tf\n",
    "import tensorflow_hub as hub\n",
    "import keras_nlp"
   ]
  },
  {
   "cell_type": "code",
   "execution_count": 4,
   "id": "c0c80fa1",
   "metadata": {
    "execution": {
     "iopub.execute_input": "2024-04-03T16:39:01.818963Z",
     "iopub.status.busy": "2024-04-03T16:39:01.818623Z",
     "iopub.status.idle": "2024-04-03T16:39:02.103197Z",
     "shell.execute_reply": "2024-04-03T16:39:02.102267Z"
    },
    "id": "ZuX1lB8pPJ-W",
    "outputId": "9d0eb66e-32c2-480f-ac6d-8f97b92838e3",
    "papermill": {
     "duration": 0.298971,
     "end_time": "2024-04-03T16:39:02.105507",
     "exception": false,
     "start_time": "2024-04-03T16:39:01.806536",
     "status": "completed"
    },
    "tags": []
   },
   "outputs": [
    {
     "name": "stdout",
     "output_type": "stream",
     "text": [
      "TF Version:  2.15.0\n",
      "Eager mode:  True\n",
      "Hub version:  0.16.1\n",
      "GPU is available\n"
     ]
    }
   ],
   "source": [
    "print(\"TF Version: \", tf.__version__)\n",
    "print(\"Eager mode: \", tf.executing_eagerly())\n",
    "print(\"Hub version: \", hub.__version__)\n",
    "print(\"GPU is\", \"available\" if tf.config.experimental.list_physical_devices(\"GPU\") else \"NOT AVAILABLE\")"
   ]
  },
  {
   "cell_type": "code",
   "execution_count": 5,
   "id": "de01a2ad",
   "metadata": {
    "execution": {
     "iopub.execute_input": "2024-04-03T16:39:02.129757Z",
     "iopub.status.busy": "2024-04-03T16:39:02.129439Z",
     "iopub.status.idle": "2024-04-03T16:39:09.839890Z",
     "shell.execute_reply": "2024-04-03T16:39:09.838910Z"
    },
    "id": "0nI-9itVwCCQ",
    "outputId": "fec5f1a4-561e-4302-ae08-aa1e1411165b",
    "papermill": {
     "duration": 7.725153,
     "end_time": "2024-04-03T16:39:09.842344",
     "exception": false,
     "start_time": "2024-04-03T16:39:02.117191",
     "status": "completed"
    },
    "tags": []
   },
   "outputs": [
    {
     "data": {
      "text/plain": [
       "(1600000, 6)"
      ]
     },
     "execution_count": 5,
     "metadata": {},
     "output_type": "execute_result"
    }
   ],
   "source": [
    "import numpy as np\n",
    "import pandas as pd\n",
    "from sklearn.model_selection import train_test_split\n",
    "\n",
    "\n",
    "col_names = ['target', 'id', 'date', 'flag', 'user', 'text']\n",
    "df = pd.read_csv(\"/kaggle/input/sentiment140/training.1600000.processed.noemoticon.csv\",\n",
    "                 names = col_names,\n",
    "                 encoding = \"ISO-8859-1\")\n",
    "df.shape"
   ]
  },
  {
   "cell_type": "code",
   "execution_count": 6,
   "id": "42d08831",
   "metadata": {
    "execution": {
     "iopub.execute_input": "2024-04-03T16:39:09.866504Z",
     "iopub.status.busy": "2024-04-03T16:39:09.866026Z",
     "iopub.status.idle": "2024-04-03T16:39:09.881744Z",
     "shell.execute_reply": "2024-04-03T16:39:09.880864Z"
    },
    "id": "yeHE98KiMvDd",
    "outputId": "ffbfa52a-b91b-4e05-b223-ec88c8156c0c",
    "papermill": {
     "duration": 0.029546,
     "end_time": "2024-04-03T16:39:09.883572",
     "exception": false,
     "start_time": "2024-04-03T16:39:09.854026",
     "status": "completed"
    },
    "tags": []
   },
   "outputs": [
    {
     "data": {
      "text/html": [
       "<div>\n",
       "<style scoped>\n",
       "    .dataframe tbody tr th:only-of-type {\n",
       "        vertical-align: middle;\n",
       "    }\n",
       "\n",
       "    .dataframe tbody tr th {\n",
       "        vertical-align: top;\n",
       "    }\n",
       "\n",
       "    .dataframe thead th {\n",
       "        text-align: right;\n",
       "    }\n",
       "</style>\n",
       "<table border=\"1\" class=\"dataframe\">\n",
       "  <thead>\n",
       "    <tr style=\"text-align: right;\">\n",
       "      <th></th>\n",
       "      <th>target</th>\n",
       "      <th>id</th>\n",
       "      <th>date</th>\n",
       "      <th>flag</th>\n",
       "      <th>user</th>\n",
       "      <th>text</th>\n",
       "    </tr>\n",
       "  </thead>\n",
       "  <tbody>\n",
       "    <tr>\n",
       "      <th>1599995</th>\n",
       "      <td>4</td>\n",
       "      <td>2193601966</td>\n",
       "      <td>Tue Jun 16 08:40:49 PDT 2009</td>\n",
       "      <td>NO_QUERY</td>\n",
       "      <td>AmandaMarie1028</td>\n",
       "      <td>Just woke up. Having no school is the best fee...</td>\n",
       "    </tr>\n",
       "    <tr>\n",
       "      <th>1599996</th>\n",
       "      <td>4</td>\n",
       "      <td>2193601969</td>\n",
       "      <td>Tue Jun 16 08:40:49 PDT 2009</td>\n",
       "      <td>NO_QUERY</td>\n",
       "      <td>TheWDBoards</td>\n",
       "      <td>TheWDB.com - Very cool to hear old Walt interv...</td>\n",
       "    </tr>\n",
       "    <tr>\n",
       "      <th>1599997</th>\n",
       "      <td>4</td>\n",
       "      <td>2193601991</td>\n",
       "      <td>Tue Jun 16 08:40:49 PDT 2009</td>\n",
       "      <td>NO_QUERY</td>\n",
       "      <td>bpbabe</td>\n",
       "      <td>Are you ready for your MoJo Makeover? Ask me f...</td>\n",
       "    </tr>\n",
       "    <tr>\n",
       "      <th>1599998</th>\n",
       "      <td>4</td>\n",
       "      <td>2193602064</td>\n",
       "      <td>Tue Jun 16 08:40:49 PDT 2009</td>\n",
       "      <td>NO_QUERY</td>\n",
       "      <td>tinydiamondz</td>\n",
       "      <td>Happy 38th Birthday to my boo of alll time!!! ...</td>\n",
       "    </tr>\n",
       "    <tr>\n",
       "      <th>1599999</th>\n",
       "      <td>4</td>\n",
       "      <td>2193602129</td>\n",
       "      <td>Tue Jun 16 08:40:50 PDT 2009</td>\n",
       "      <td>NO_QUERY</td>\n",
       "      <td>RyanTrevMorris</td>\n",
       "      <td>happy #charitytuesday @theNSPCC @SparksCharity...</td>\n",
       "    </tr>\n",
       "  </tbody>\n",
       "</table>\n",
       "</div>"
      ],
      "text/plain": [
       "         target          id                          date      flag  \\\n",
       "1599995       4  2193601966  Tue Jun 16 08:40:49 PDT 2009  NO_QUERY   \n",
       "1599996       4  2193601969  Tue Jun 16 08:40:49 PDT 2009  NO_QUERY   \n",
       "1599997       4  2193601991  Tue Jun 16 08:40:49 PDT 2009  NO_QUERY   \n",
       "1599998       4  2193602064  Tue Jun 16 08:40:49 PDT 2009  NO_QUERY   \n",
       "1599999       4  2193602129  Tue Jun 16 08:40:50 PDT 2009  NO_QUERY   \n",
       "\n",
       "                    user                                               text  \n",
       "1599995  AmandaMarie1028  Just woke up. Having no school is the best fee...  \n",
       "1599996      TheWDBoards  TheWDB.com - Very cool to hear old Walt interv...  \n",
       "1599997           bpbabe  Are you ready for your MoJo Makeover? Ask me f...  \n",
       "1599998     tinydiamondz  Happy 38th Birthday to my boo of alll time!!! ...  \n",
       "1599999   RyanTrevMorris  happy #charitytuesday @theNSPCC @SparksCharity...  "
      ]
     },
     "execution_count": 6,
     "metadata": {},
     "output_type": "execute_result"
    }
   ],
   "source": [
    "df.tail()"
   ]
  },
  {
   "cell_type": "code",
   "execution_count": 7,
   "id": "b7e03e3d",
   "metadata": {
    "execution": {
     "iopub.execute_input": "2024-04-03T16:39:09.907298Z",
     "iopub.status.busy": "2024-04-03T16:39:09.907055Z",
     "iopub.status.idle": "2024-04-03T16:39:10.359263Z",
     "shell.execute_reply": "2024-04-03T16:39:10.358363Z"
    },
    "id": "leRFRWJMocVa",
    "outputId": "531296b7-0bc2-418d-ac01-461af40e8510",
    "papermill": {
     "duration": 0.466286,
     "end_time": "2024-04-03T16:39:10.361385",
     "exception": false,
     "start_time": "2024-04-03T16:39:09.895099",
     "status": "completed"
    },
    "tags": []
   },
   "outputs": [
    {
     "data": {
      "image/png": "[encoded data removed]",
      "text/plain": [
       "<Figure size 640x480 with 1 Axes>"
      ]
     },
     "metadata": {},
     "output_type": "display_data"
    }
   ],
   "source": [
    "df.target.plot(kind='hist', title = 'Target Distribution');"
   ]
  },
  {
   "cell_type": "code",
   "execution_count": 8,
   "id": "92b425f2",
   "metadata": {
    "execution": {
     "iopub.execute_input": "2024-04-03T16:39:10.388319Z",
     "iopub.status.busy": "2024-04-03T16:39:10.388012Z",
     "iopub.status.idle": "2024-04-03T16:39:10.405373Z",
     "shell.execute_reply": "2024-04-03T16:39:10.404705Z"
    },
    "papermill": {
     "duration": 0.032869,
     "end_time": "2024-04-03T16:39:10.407258",
     "exception": false,
     "start_time": "2024-04-03T16:39:10.374389",
     "status": "completed"
    },
    "tags": []
   },
   "outputs": [],
   "source": [
    "# renaming the labels as 0 and 1 instead of 0 and 4\n",
    "\n",
    "df.replace({'target':{4:1}}, inplace = True)"
   ]
  },
  {
   "cell_type": "markdown",
   "id": "d081ef40",
   "metadata": {
    "papermill": {
     "duration": 0.011315,
     "end_time": "2024-04-03T16:39:10.430417",
     "exception": false,
     "start_time": "2024-04-03T16:39:10.419102",
     "status": "completed"
    },
    "tags": []
   },
   "source": [
    "### 0 --> Negative Tweet, 1 --> Positive Tweet"
   ]
  },
  {
   "cell_type": "code",
   "execution_count": 9,
   "id": "e1a440d8",
   "metadata": {
    "execution": {
     "iopub.execute_input": "2024-04-03T16:39:10.456243Z",
     "iopub.status.busy": "2024-04-03T16:39:10.455956Z",
     "iopub.status.idle": "2024-04-03T16:39:10.836640Z",
     "shell.execute_reply": "2024-04-03T16:39:10.835688Z"
    },
    "papermill": {
     "duration": 0.395992,
     "end_time": "2024-04-03T16:39:10.838857",
     "exception": false,
     "start_time": "2024-04-03T16:39:10.442865",
     "status": "completed"
    },
    "tags": []
   },
   "outputs": [
    {
     "data": {
      "image/png": "[encoded data removed]",
      "text/plain": [
       "<Figure size 640x480 with 1 Axes>"
      ]
     },
     "metadata": {},
     "output_type": "display_data"
    }
   ],
   "source": [
    "df.target.plot(kind='hist', title = 'Target Distribution');"
   ]
  },
  {
   "cell_type": "markdown",
   "id": "6790176e",
   "metadata": {
    "id": "ELjswHcFHfp3",
    "papermill": {
     "duration": 0.012027,
     "end_time": "2024-04-03T16:39:10.863774",
     "exception": false,
     "start_time": "2024-04-03T16:39:10.851747",
     "status": "completed"
    },
    "tags": []
   },
   "source": [
    "### 3. Preparing Input Data for Training and Evaluation"
   ]
  },
  {
   "cell_type": "markdown",
   "id": "4b79ed5a",
   "metadata": {
    "papermill": {
     "duration": 0.011958,
     "end_time": "2024-04-03T16:39:10.888081",
     "exception": false,
     "start_time": "2024-04-03T16:39:10.876123",
     "status": "completed"
    },
    "tags": []
   },
   "source": [
    "Since BERT is a pretrained model, it is sufficient to train it on a small subset of the original dataset. Else, training the entire dataset on BERT would take nearly 7 hours to complete!!! "
   ]
  },
  {
   "cell_type": "code",
   "execution_count": 10,
   "id": "4c28a250",
   "metadata": {
    "execution": {
     "iopub.execute_input": "2024-04-03T16:39:10.915328Z",
     "iopub.status.busy": "2024-04-03T16:39:10.915009Z",
     "iopub.status.idle": "2024-04-03T16:39:11.137648Z",
     "shell.execute_reply": "2024-04-03T16:39:11.136863Z"
    },
    "id": "fScULIGPwuWk",
    "outputId": "f3f0dc5f-c7a9-4901-b3fe-dcff630b0eaa",
    "papermill": {
     "duration": 0.239232,
     "end_time": "2024-04-03T16:39:11.140032",
     "exception": false,
     "start_time": "2024-04-03T16:39:10.900800",
     "status": "completed"
    },
    "tags": []
   },
   "outputs": [],
   "source": [
    "from sklearn.model_selection import train_test_split\n",
    "from sklearn.utils import resample\n",
    "\n",
    "# Splitting the dataset into train and valid (90% and 10% respectively)\n",
    "train_df, test_df = train_test_split(df, random_state=42, train_size=0.1, test_size = 0.01, stratify=df.target.values)"
   ]
  },
  {
   "cell_type": "code",
   "execution_count": 11,
   "id": "cfda7c62",
   "metadata": {
    "execution": {
     "iopub.execute_input": "2024-04-03T16:39:11.166738Z",
     "iopub.status.busy": "2024-04-03T16:39:11.166145Z",
     "iopub.status.idle": "2024-04-03T16:39:11.170744Z",
     "shell.execute_reply": "2024-04-03T16:39:11.169922Z"
    },
    "papermill": {
     "duration": 0.020027,
     "end_time": "2024-04-03T16:39:11.172814",
     "exception": false,
     "start_time": "2024-04-03T16:39:11.152787",
     "status": "completed"
    },
    "tags": []
   },
   "outputs": [],
   "source": [
    "X_train = train_df[\"text\"]\n",
    "y_train = train_df[\"target\"]\n",
    "\n",
    "X_test = test_df[\"text\"]\n",
    "y_test = test_df[\"target\"]"
   ]
  },
  {
   "cell_type": "code",
   "execution_count": 12,
   "id": "c4eb4490",
   "metadata": {
    "execution": {
     "iopub.execute_input": "2024-04-03T16:39:11.198025Z",
     "iopub.status.busy": "2024-04-03T16:39:11.197520Z",
     "iopub.status.idle": "2024-04-03T16:39:11.202565Z",
     "shell.execute_reply": "2024-04-03T16:39:11.201639Z"
    },
    "papermill": {
     "duration": 0.019768,
     "end_time": "2024-04-03T16:39:11.204580",
     "exception": false,
     "start_time": "2024-04-03T16:39:11.184812",
     "status": "completed"
    },
    "tags": []
   },
   "outputs": [
    {
     "name": "stdout",
     "output_type": "stream",
     "text": [
      "(160000,)\n",
      "(160000,)\n",
      "(16000,)\n",
      "(16000,)\n"
     ]
    }
   ],
   "source": [
    "print(X_train.shape)\n",
    "print(y_train.shape)\n",
    "\n",
    "print(X_test.shape)\n",
    "print(y_test.shape)"
   ]
  },
  {
   "cell_type": "markdown",
   "id": "af63b623",
   "metadata": {
    "id": "9QinzNq6OsP1",
    "papermill": {
     "duration": 0.012006,
     "end_time": "2024-04-03T16:39:11.228692",
     "exception": false,
     "start_time": "2024-04-03T16:39:11.216686",
     "status": "completed"
    },
    "tags": []
   },
   "source": [
    "### 4. Input Format for BERT"
   ]
  },
  {
   "cell_type": "markdown",
   "id": "7838cfcb",
   "metadata": {
    "id": "shyvv_0JaIzj",
    "papermill": {
     "duration": 0.011697,
     "end_time": "2024-04-03T16:39:11.252528",
     "exception": false,
     "start_time": "2024-04-03T16:39:11.240831",
     "status": "completed"
    },
    "tags": []
   },
   "source": [
    "**Token IDs** - This corresponds to the tokenized strings padded with 0s\n",
    "                upto the max sequence length and beginning with CLS and ending with SEP. <br><br>\n",
    "**Input Mask** - Note that BERT uses Self-Attention Networks to provide\n",
    "                 contextualised embeddings corresponding to each token in the token string i.e., for each word in the string BERT looks to the left and right of it in the sentence so as to find contextual meaning of the word in the sentence (say, if there is a \"the\", then look at the noun to which it points). Now, note that we have padded our token strings with 0s upto the max seq length, but we do not want the padding 0s to influence the contextual information to be derived.  The Input Mask is a list of same length as the length of Token Ids (ie the max seq length) where there is a 0 for a padding and 1 for a valid token. The 0s will cancel out the internal multiplications that we perform for capturing the Self Attention for contextual information. <br><br>\n",
    "\n",
    "**Input Type IDs** - Note that originally BERT was pretrained on two   tasks, Masked Language Modelling (where random words from the sentence would be masked and it would be the task for the BERT to predict what those masked words are) and the other task was Next Sentence Prediction or NSP (Given two sentences, the BERT has to predict which came first and which came after. The first sentence was given the value 0 and the next sentence was given the value 1).<br><br>\n",
    "**In Text classification, we are dealing with only 1 sequence at a time, so our input type IDs would just be a vector with all values 0. **\n"
   ]
  },
  {
   "cell_type": "markdown",
   "id": "9fa83027",
   "metadata": {
    "papermill": {
     "duration": 0.012053,
     "end_time": "2024-04-03T16:39:11.276599",
     "exception": false,
     "start_time": "2024-04-03T16:39:11.264546",
     "status": "completed"
    },
    "tags": []
   },
   "source": [
    "### 5. Checking the tokenization process"
   ]
  },
  {
   "cell_type": "code",
   "execution_count": 13,
   "id": "c36edd73",
   "metadata": {
    "execution": {
     "iopub.execute_input": "2024-04-03T16:39:11.302020Z",
     "iopub.status.busy": "2024-04-03T16:39:11.301458Z",
     "iopub.status.idle": "2024-04-03T16:39:15.243057Z",
     "shell.execute_reply": "2024-04-03T16:39:15.242024Z"
    },
    "papermill": {
     "duration": 3.956984,
     "end_time": "2024-04-03T16:39:15.245622",
     "exception": false,
     "start_time": "2024-04-03T16:39:11.288638",
     "status": "completed"
    },
    "tags": []
   },
   "outputs": [
    {
     "name": "stderr",
     "output_type": "stream",
     "text": [
      "Attaching model 'tensorflow/bert/tensorflow2/en-uncased-preprocess/3' to your Kaggle notebook...\n"
     ]
    },
    {
     "name": "stdout",
     "output_type": "stream",
     "text": [
      "tf.Tensor(\n",
      "[[ 101 7592 1010 2129 2024 2017 1029  102    0    0    0    0    0    0\n",
      "     0    0    0    0    0    0    0    0    0    0    0    0    0    0\n",
      "     0    0    0    0    0    0    0    0    0    0    0    0    0    0\n",
      "     0    0    0    0    0    0    0    0    0    0    0    0    0    0\n",
      "     0    0    0    0    0    0    0    0    0    0    0    0    0    0\n",
      "     0    0    0    0    0    0    0    0    0    0    0    0    0    0\n",
      "     0    0    0    0    0    0    0    0    0    0    0    0    0    0\n",
      "     0    0    0    0    0    0    0    0    0    0    0    0    0    0\n",
      "     0    0    0    0    0    0    0    0    0    0    0    0    0    0\n",
      "     0    0]], shape=(1, 128), dtype=int32)\n",
      "tf.Tensor(\n",
      "[[1 1 1 1 1 1 1 1 0 0 0 0 0 0 0 0 0 0 0 0 0 0 0 0 0 0 0 0 0 0 0 0 0 0 0 0\n",
      "  0 0 0 0 0 0 0 0 0 0 0 0 0 0 0 0 0 0 0 0 0 0 0 0 0 0 0 0 0 0 0 0 0 0 0 0\n",
      "  0 0 0 0 0 0 0 0 0 0 0 0 0 0 0 0 0 0 0 0 0 0 0 0 0 0 0 0 0 0 0 0 0 0 0 0\n",
      "  0 0 0 0 0 0 0 0 0 0 0 0 0 0 0 0 0 0 0 0]], shape=(1, 128), dtype=int32)\n",
      "tf.Tensor(\n",
      "[[0 0 0 0 0 0 0 0 0 0 0 0 0 0 0 0 0 0 0 0 0 0 0 0 0 0 0 0 0 0 0 0 0 0 0 0\n",
      "  0 0 0 0 0 0 0 0 0 0 0 0 0 0 0 0 0 0 0 0 0 0 0 0 0 0 0 0 0 0 0 0 0 0 0 0\n",
      "  0 0 0 0 0 0 0 0 0 0 0 0 0 0 0 0 0 0 0 0 0 0 0 0 0 0 0 0 0 0 0 0 0 0 0 0\n",
      "  0 0 0 0 0 0 0 0 0 0 0 0 0 0 0 0 0 0 0 0]], shape=(1, 128), dtype=int32)\n"
     ]
    }
   ],
   "source": [
    "preprocessor = hub.KerasLayer(\n",
    "    \"https://kaggle.com/models/tensorflow/bert/frameworks/TensorFlow2/variations/en-uncased-preprocess/versions/3\")\n",
    "\n",
    "# Tokenize the input text\n",
    "input_text = [\"Hello, how are you?\"]\n",
    "tokenized_output = preprocessor(input_text)\n",
    "\n",
    "# Print token IDs\n",
    "print(tokenized_output['input_word_ids'])\n",
    "print(tokenized_output['input_mask'])\n",
    "print(tokenized_output['input_type_ids'])"
   ]
  },
  {
   "cell_type": "markdown",
   "id": "cae77407",
   "metadata": {
    "papermill": {
     "duration": 0.013368,
     "end_time": "2024-04-03T16:39:15.273117",
     "exception": false,
     "start_time": "2024-04-03T16:39:15.259749",
     "status": "completed"
    },
    "tags": []
   },
   "source": [
    "Upon checking the input word ids, we find that the tokens are --> \"Hello\", \"#,\", \"how\", \"are\", \"you\" and \"#?\" {'#' signifies that the succeeding character ',' is attached to characters before] and they are encoded as [7592 1010 2129 2024 2017 1029]. \n",
    "\n",
    "Note that this is not the whole story. We also have to make sure that each sequence is initiated with the CLS token (which signifies start of sequence and has a token_id 101) and ended with SEP (separator) which means end of sequence and has a token_id 102. Also we have to make sure that all tensors have sequence size equal to the max_sequence_length by using padding."
   ]
  },
  {
   "cell_type": "markdown",
   "id": "0a7b70fd",
   "metadata": {
    "id": "GZxe-7yhPyQe",
    "papermill": {
     "duration": 0.012607,
     "end_time": "2024-04-03T16:39:15.298448",
     "exception": false,
     "start_time": "2024-04-03T16:39:15.285841",
     "status": "completed"
    },
    "tags": []
   },
   "source": [
    "### 6. Add a Classification Head to the BERT Layer"
   ]
  },
  {
   "cell_type": "markdown",
   "id": "0244a6f0",
   "metadata": {
    "id": "eED7TDu0vQ2Y",
    "papermill": {
     "duration": 0.012661,
     "end_time": "2024-04-03T16:39:15.324150",
     "exception": false,
     "start_time": "2024-04-03T16:39:15.311489",
     "status": "completed"
    },
    "tags": []
   },
   "source": [
    "We only need the pooled_output that represents the whole sentence (using the CLS token that contains the contextual information of the whole sentence) and not the sequence_output."
   ]
  },
  {
   "cell_type": "code",
   "execution_count": 14,
   "id": "87545cbe",
   "metadata": {
    "execution": {
     "iopub.execute_input": "2024-04-03T16:39:15.351308Z",
     "iopub.status.busy": "2024-04-03T16:39:15.350447Z",
     "iopub.status.idle": "2024-04-03T16:39:24.926840Z",
     "shell.execute_reply": "2024-04-03T16:39:24.925718Z"
    },
    "id": "G9il4gtlADcp",
    "papermill": {
     "duration": 9.59225,
     "end_time": "2024-04-03T16:39:24.929133",
     "exception": false,
     "start_time": "2024-04-03T16:39:15.336883",
     "status": "completed"
    },
    "tags": []
   },
   "outputs": [
    {
     "name": "stderr",
     "output_type": "stream",
     "text": [
      "Attaching 'tokenizer.json' from model 'keras/bert/keras/bert_base_en_uncased/2' to your Kaggle notebook...\n",
      "Attaching 'tokenizer.json' from model 'keras/bert/keras/bert_base_en_uncased/2' to your Kaggle notebook...\n",
      "Attaching 'assets/tokenizer/vocabulary.txt' from model 'keras/bert/keras/bert_base_en_uncased/2' to your Kaggle notebook...\n",
      "Attaching 'config.json' from model 'keras/bert/keras/bert_base_en_uncased/2' to your Kaggle notebook...\n",
      "Attaching 'config.json' from model 'keras/bert/keras/bert_base_en_uncased/2' to your Kaggle notebook...\n",
      "Attaching 'model.weights.h5' from model 'keras/bert/keras/bert_base_en_uncased/2' to your Kaggle notebook...\n"
     ]
    }
   ],
   "source": [
    "# Building the model\n",
    "\n",
    "text_input = tf.keras.layers.Input(shape=(), dtype=tf.string)\n",
    "preprocessor = keras_nlp.models.BertPreprocessor.from_preset(\"bert_base_en_uncased\",trainable=True)\n",
    "encoder_inputs = preprocessor(text_input)\n",
    "encoder = keras_nlp.models.BertBackbone.from_preset(\"bert_base_en_uncased\")\n",
    "outputs = encoder(encoder_inputs)\n",
    "pooled_output = outputs[\"pooled_output\"]      # [batch_size, 768].\n",
    "sequence_output = outputs[\"sequence_output\"]  # [batch_size, seq_length, 768].\n",
    "\n",
    "\n",
    "\n",
    "\n",
    "# Classification\n",
    "# Add dropout layer\n",
    "drop1 = tf.keras.layers.Dropout(0.2)(pooled_output)\n",
    "\n",
    "# Add hidden dense layers\n",
    "hidden1 = tf.keras.layers.Dense(128, activation='relu')(drop1)\n",
    "drop2 = tf.keras.layers.Dropout(0.2)(hidden1)\n",
    "hidden2 = tf.keras.layers.Dense(32, activation='relu')(drop2)\n",
    "drop3 = tf.keras.layers.Dropout(0.2)(hidden2)\n",
    "\n",
    "# Output layer\n",
    "output_layer = tf.keras.layers.Dense(1, activation='sigmoid', name='output')(drop3)\n",
    "\n",
    "\n",
    "model=tf.keras.Model(inputs=[text_input],outputs=[output_layer])"
   ]
  },
  {
   "cell_type": "markdown",
   "id": "0dc1da17",
   "metadata": {
    "id": "S6maM-vr7YaJ",
    "papermill": {
     "duration": 0.01284,
     "end_time": "2024-04-03T16:39:24.955589",
     "exception": false,
     "start_time": "2024-04-03T16:39:24.942749",
     "status": "completed"
    },
    "tags": []
   },
   "source": [
    "### 7. Fine-Tune BERT for Text Classification"
   ]
  },
  {
   "cell_type": "code",
   "execution_count": 15,
   "id": "c60765ba",
   "metadata": {
    "execution": {
     "iopub.execute_input": "2024-04-03T16:39:24.983252Z",
     "iopub.status.busy": "2024-04-03T16:39:24.982913Z",
     "iopub.status.idle": "2024-04-03T16:39:25.023609Z",
     "shell.execute_reply": "2024-04-03T16:39:25.022815Z"
    },
    "id": "ptCtiiONsBgo",
    "outputId": "5586d260-0153-4659-e47e-a5420023debb",
    "papermill": {
     "duration": 0.057233,
     "end_time": "2024-04-03T16:39:25.025613",
     "exception": false,
     "start_time": "2024-04-03T16:39:24.968380",
     "status": "completed"
    },
    "tags": []
   },
   "outputs": [
    {
     "data": {
      "text/html": [
       "<pre style=\"white-space:pre;overflow-x:auto;line-height:normal;font-family:Menlo,'DejaVu Sans Mono',consolas,'Courier New',monospace\"><span style=\"font-weight: bold\">Model: \"functional_1\"</span>\n",
       "</pre>\n"
      ],
      "text/plain": [
       "\u001b[1mModel: \"functional_1\"\u001b[0m\n"
      ]
     },
     "metadata": {},
     "output_type": "display_data"
    },
    {
     "data": {
      "text/html": [
       "<pre style=\"white-space:pre;overflow-x:auto;line-height:normal;font-family:Menlo,'DejaVu Sans Mono',consolas,'Courier New',monospace\">┏━━━━━━━━━━━━━━━━━━━━━┳━━━━━━━━━━━━━━━━━━━┳━━━━━━━━━━━━┳━━━━━━━━━━━━━━━━━━━┓\n",
       "┃<span style=\"font-weight: bold\"> Layer (type)        </span>┃<span style=\"font-weight: bold\"> Output Shape      </span>┃<span style=\"font-weight: bold\">    Param # </span>┃<span style=\"font-weight: bold\"> Connected to      </span>┃\n",
       "┡━━━━━━━━━━━━━━━━━━━━━╇━━━━━━━━━━━━━━━━━━━╇━━━━━━━━━━━━╇━━━━━━━━━━━━━━━━━━━┩\n",
       "│ input_layer         │ (<span style=\"color: #00d7ff; text-decoration-color: #00d7ff\">None</span>)            │          <span style=\"color: #00af00; text-decoration-color: #00af00\">0</span> │ -                 │\n",
       "│ (<span style=\"color: #0087ff; text-decoration-color: #0087ff\">InputLayer</span>)        │                   │            │                   │\n",
       "├─────────────────────┼───────────────────┼────────────┼───────────────────┤\n",
       "│ bert_preprocessor   │ [(<span style=\"color: #00d7ff; text-decoration-color: #00d7ff\">None</span>, <span style=\"color: #00af00; text-decoration-color: #00af00\">512</span>),     │          <span style=\"color: #00af00; text-decoration-color: #00af00\">0</span> │ input_layer[<span style=\"color: #00af00; text-decoration-color: #00af00\">0</span>][<span style=\"color: #00af00; text-decoration-color: #00af00\">0</span>] │\n",
       "│ (<span style=\"color: #0087ff; text-decoration-color: #0087ff\">BertPreprocessor</span>)  │ (<span style=\"color: #00d7ff; text-decoration-color: #00d7ff\">None</span>, <span style=\"color: #00af00; text-decoration-color: #00af00\">512</span>),      │            │                   │\n",
       "│                     │ (<span style=\"color: #00d7ff; text-decoration-color: #00d7ff\">None</span>, <span style=\"color: #00af00; text-decoration-color: #00af00\">512</span>)]      │            │                   │\n",
       "├─────────────────────┼───────────────────┼────────────┼───────────────────┤\n",
       "│ bert_backbone       │ [(<span style=\"color: #00d7ff; text-decoration-color: #00d7ff\">None</span>, <span style=\"color: #00af00; text-decoration-color: #00af00\">768</span>),     │ <span style=\"color: #00af00; text-decoration-color: #00af00\">109,482,2…</span> │ bert_preprocesso… │\n",
       "│ (<span style=\"color: #0087ff; text-decoration-color: #0087ff\">BertBackbone</span>)      │ (<span style=\"color: #00d7ff; text-decoration-color: #00d7ff\">None</span>, <span style=\"color: #00af00; text-decoration-color: #00af00\">512</span>, <span style=\"color: #00af00; text-decoration-color: #00af00\">768</span>)] │            │ bert_preprocesso… │\n",
       "│                     │                   │            │ bert_preprocesso… │\n",
       "├─────────────────────┼───────────────────┼────────────┼───────────────────┤\n",
       "│ dropout_12          │ (<span style=\"color: #00d7ff; text-decoration-color: #00d7ff\">None</span>, <span style=\"color: #00af00; text-decoration-color: #00af00\">768</span>)       │          <span style=\"color: #00af00; text-decoration-color: #00af00\">0</span> │ bert_backbone[<span style=\"color: #00af00; text-decoration-color: #00af00\">0</span>]… │\n",
       "│ (<span style=\"color: #0087ff; text-decoration-color: #0087ff\">Dropout</span>)           │                   │            │                   │\n",
       "├─────────────────────┼───────────────────┼────────────┼───────────────────┤\n",
       "│ dense (<span style=\"color: #0087ff; text-decoration-color: #0087ff\">Dense</span>)       │ (<span style=\"color: #00d7ff; text-decoration-color: #00d7ff\">None</span>, <span style=\"color: #00af00; text-decoration-color: #00af00\">128</span>)       │     <span style=\"color: #00af00; text-decoration-color: #00af00\">98,432</span> │ dropout_12[<span style=\"color: #00af00; text-decoration-color: #00af00\">0</span>][<span style=\"color: #00af00; text-decoration-color: #00af00\">0</span>]  │\n",
       "├─────────────────────┼───────────────────┼────────────┼───────────────────┤\n",
       "│ dropout_13          │ (<span style=\"color: #00d7ff; text-decoration-color: #00d7ff\">None</span>, <span style=\"color: #00af00; text-decoration-color: #00af00\">128</span>)       │          <span style=\"color: #00af00; text-decoration-color: #00af00\">0</span> │ dense[<span style=\"color: #00af00; text-decoration-color: #00af00\">0</span>][<span style=\"color: #00af00; text-decoration-color: #00af00\">0</span>]       │\n",
       "│ (<span style=\"color: #0087ff; text-decoration-color: #0087ff\">Dropout</span>)           │                   │            │                   │\n",
       "├─────────────────────┼───────────────────┼────────────┼───────────────────┤\n",
       "│ dense_1 (<span style=\"color: #0087ff; text-decoration-color: #0087ff\">Dense</span>)     │ (<span style=\"color: #00d7ff; text-decoration-color: #00d7ff\">None</span>, <span style=\"color: #00af00; text-decoration-color: #00af00\">32</span>)        │      <span style=\"color: #00af00; text-decoration-color: #00af00\">4,128</span> │ dropout_13[<span style=\"color: #00af00; text-decoration-color: #00af00\">0</span>][<span style=\"color: #00af00; text-decoration-color: #00af00\">0</span>]  │\n",
       "├─────────────────────┼───────────────────┼────────────┼───────────────────┤\n",
       "│ dropout_14          │ (<span style=\"color: #00d7ff; text-decoration-color: #00d7ff\">None</span>, <span style=\"color: #00af00; text-decoration-color: #00af00\">32</span>)        │          <span style=\"color: #00af00; text-decoration-color: #00af00\">0</span> │ dense_1[<span style=\"color: #00af00; text-decoration-color: #00af00\">0</span>][<span style=\"color: #00af00; text-decoration-color: #00af00\">0</span>]     │\n",
       "│ (<span style=\"color: #0087ff; text-decoration-color: #0087ff\">Dropout</span>)           │                   │            │                   │\n",
       "├─────────────────────┼───────────────────┼────────────┼───────────────────┤\n",
       "│ output (<span style=\"color: #0087ff; text-decoration-color: #0087ff\">Dense</span>)      │ (<span style=\"color: #00d7ff; text-decoration-color: #00d7ff\">None</span>, <span style=\"color: #00af00; text-decoration-color: #00af00\">1</span>)         │         <span style=\"color: #00af00; text-decoration-color: #00af00\">33</span> │ dropout_14[<span style=\"color: #00af00; text-decoration-color: #00af00\">0</span>][<span style=\"color: #00af00; text-decoration-color: #00af00\">0</span>]  │\n",
       "└─────────────────────┴───────────────────┴────────────┴───────────────────┘\n",
       "</pre>\n"
      ],
      "text/plain": [
       "┏━━━━━━━━━━━━━━━━━━━━━┳━━━━━━━━━━━━━━━━━━━┳━━━━━━━━━━━━┳━━━━━━━━━━━━━━━━━━━┓\n",
       "┃\u001b[1m \u001b[0m\u001b[1mLayer (type)       \u001b[0m\u001b[1m \u001b[0m┃\u001b[1m \u001b[0m\u001b[1mOutput Shape     \u001b[0m\u001b[1m \u001b[0m┃\u001b[1m \u001b[0m\u001b[1m   Param #\u001b[0m\u001b[1m \u001b[0m┃\u001b[1m \u001b[0m\u001b[1mConnected to     \u001b[0m\u001b[1m \u001b[0m┃\n",
       "┡━━━━━━━━━━━━━━━━━━━━━╇━━━━━━━━━━━━━━━━━━━╇━━━━━━━━━━━━╇━━━━━━━━━━━━━━━━━━━┩\n",
       "│ input_layer         │ (\u001b[38;5;45mNone\u001b[0m)            │          \u001b[38;5;34m0\u001b[0m │ -                 │\n",
       "│ (\u001b[38;5;33mInputLayer\u001b[0m)        │                   │            │                   │\n",
       "├─────────────────────┼───────────────────┼────────────┼───────────────────┤\n",
       "│ bert_preprocessor   │ [(\u001b[38;5;45mNone\u001b[0m, \u001b[38;5;34m512\u001b[0m),     │          \u001b[38;5;34m0\u001b[0m │ input_layer[\u001b[38;5;34m0\u001b[0m][\u001b[38;5;34m0\u001b[0m] │\n",
       "│ (\u001b[38;5;33mBertPreprocessor\u001b[0m)  │ (\u001b[38;5;45mNone\u001b[0m, \u001b[38;5;34m512\u001b[0m),      │            │                   │\n",
       "│                     │ (\u001b[38;5;45mNone\u001b[0m, \u001b[38;5;34m512\u001b[0m)]      │            │                   │\n",
       "├─────────────────────┼───────────────────┼────────────┼───────────────────┤\n",
       "│ bert_backbone       │ [(\u001b[38;5;45mNone\u001b[0m, \u001b[38;5;34m768\u001b[0m),     │ \u001b[38;5;34m109,482,2…\u001b[0m │ bert_preprocesso… │\n",
       "│ (\u001b[38;5;33mBertBackbone\u001b[0m)      │ (\u001b[38;5;45mNone\u001b[0m, \u001b[38;5;34m512\u001b[0m, \u001b[38;5;34m768\u001b[0m)] │            │ bert_preprocesso… │\n",
       "│                     │                   │            │ bert_preprocesso… │\n",
       "├─────────────────────┼───────────────────┼────────────┼───────────────────┤\n",
       "│ dropout_12          │ (\u001b[38;5;45mNone\u001b[0m, \u001b[38;5;34m768\u001b[0m)       │          \u001b[38;5;34m0\u001b[0m │ bert_backbone[\u001b[38;5;34m0\u001b[0m]… │\n",
       "│ (\u001b[38;5;33mDropout\u001b[0m)           │                   │            │                   │\n",
       "├─────────────────────┼───────────────────┼────────────┼───────────────────┤\n",
       "│ dense (\u001b[38;5;33mDense\u001b[0m)       │ (\u001b[38;5;45mNone\u001b[0m, \u001b[38;5;34m128\u001b[0m)       │     \u001b[38;5;34m98,432\u001b[0m │ dropout_12[\u001b[38;5;34m0\u001b[0m][\u001b[38;5;34m0\u001b[0m]  │\n",
       "├─────────────────────┼───────────────────┼────────────┼───────────────────┤\n",
       "│ dropout_13          │ (\u001b[38;5;45mNone\u001b[0m, \u001b[38;5;34m128\u001b[0m)       │          \u001b[38;5;34m0\u001b[0m │ dense[\u001b[38;5;34m0\u001b[0m][\u001b[38;5;34m0\u001b[0m]       │\n",
       "│ (\u001b[38;5;33mDropout\u001b[0m)           │                   │            │                   │\n",
       "├─────────────────────┼───────────────────┼────────────┼───────────────────┤\n",
       "│ dense_1 (\u001b[38;5;33mDense\u001b[0m)     │ (\u001b[38;5;45mNone\u001b[0m, \u001b[38;5;34m32\u001b[0m)        │      \u001b[38;5;34m4,128\u001b[0m │ dropout_13[\u001b[38;5;34m0\u001b[0m][\u001b[38;5;34m0\u001b[0m]  │\n",
       "├─────────────────────┼───────────────────┼────────────┼───────────────────┤\n",
       "│ dropout_14          │ (\u001b[38;5;45mNone\u001b[0m, \u001b[38;5;34m32\u001b[0m)        │          \u001b[38;5;34m0\u001b[0m │ dense_1[\u001b[38;5;34m0\u001b[0m][\u001b[38;5;34m0\u001b[0m]     │\n",
       "│ (\u001b[38;5;33mDropout\u001b[0m)           │                   │            │                   │\n",
       "├─────────────────────┼───────────────────┼────────────┼───────────────────┤\n",
       "│ output (\u001b[38;5;33mDense\u001b[0m)      │ (\u001b[38;5;45mNone\u001b[0m, \u001b[38;5;34m1\u001b[0m)         │         \u001b[38;5;34m33\u001b[0m │ dropout_14[\u001b[38;5;34m0\u001b[0m][\u001b[38;5;34m0\u001b[0m]  │\n",
       "└─────────────────────┴───────────────────┴────────────┴───────────────────┘\n"
      ]
     },
     "metadata": {},
     "output_type": "display_data"
    },
    {
     "data": {
      "text/html": [
       "<pre style=\"white-space:pre;overflow-x:auto;line-height:normal;font-family:Menlo,'DejaVu Sans Mono',consolas,'Courier New',monospace\"><span style=\"font-weight: bold\"> Total params: </span><span style=\"color: #00af00; text-decoration-color: #00af00\">109,584,833</span> (418.03 MB)\n",
       "</pre>\n"
      ],
      "text/plain": [
       "\u001b[1m Total params: \u001b[0m\u001b[38;5;34m109,584,833\u001b[0m (418.03 MB)\n"
      ]
     },
     "metadata": {},
     "output_type": "display_data"
    },
    {
     "data": {
      "text/html": [
       "<pre style=\"white-space:pre;overflow-x:auto;line-height:normal;font-family:Menlo,'DejaVu Sans Mono',consolas,'Courier New',monospace\"><span style=\"font-weight: bold\"> Trainable params: </span><span style=\"color: #00af00; text-decoration-color: #00af00\">109,584,833</span> (418.03 MB)\n",
       "</pre>\n"
      ],
      "text/plain": [
       "\u001b[1m Trainable params: \u001b[0m\u001b[38;5;34m109,584,833\u001b[0m (418.03 MB)\n"
      ]
     },
     "metadata": {},
     "output_type": "display_data"
    },
    {
     "data": {
      "text/html": [
       "<pre style=\"white-space:pre;overflow-x:auto;line-height:normal;font-family:Menlo,'DejaVu Sans Mono',consolas,'Courier New',monospace\"><span style=\"font-weight: bold\"> Non-trainable params: </span><span style=\"color: #00af00; text-decoration-color: #00af00\">0</span> (0.00 B)\n",
       "</pre>\n"
      ],
      "text/plain": [
       "\u001b[1m Non-trainable params: \u001b[0m\u001b[38;5;34m0\u001b[0m (0.00 B)\n"
      ]
     },
     "metadata": {},
     "output_type": "display_data"
    }
   ],
   "source": [
    "model.compile(optimizer=tf.keras.optimizers.Adam(learning_rate=2e-5),\n",
    "              loss = tf.keras.losses.BinaryCrossentropy(),\n",
    "              metrics = [tf.keras.metrics.F1Score()])\n",
    "model.summary()"
   ]
  },
  {
   "cell_type": "code",
   "execution_count": 16,
   "id": "bd5f28d2",
   "metadata": {
    "execution": {
     "iopub.execute_input": "2024-04-03T16:39:25.054588Z",
     "iopub.status.busy": "2024-04-03T16:39:25.053888Z",
     "iopub.status.idle": "2024-04-03T16:39:25.059844Z",
     "shell.execute_reply": "2024-04-03T16:39:25.059021Z"
    },
    "papermill": {
     "duration": 0.022256,
     "end_time": "2024-04-03T16:39:25.061677",
     "exception": false,
     "start_time": "2024-04-03T16:39:25.039421",
     "status": "completed"
    },
    "tags": []
   },
   "outputs": [],
   "source": [
    "# Define callbacks\n",
    "callbacks = [\n",
    "    tf.keras.callbacks.ModelCheckpoint(\n",
    "        filepath='/kaggle/working/best_model.keras',  # Path to save the best model\n",
    "        save_best_only=True,  # Save only the best model\n",
    "        monitor='val_binary_accuracy',  # Quantity to be monitored  # Do not save the entire model\n",
    "        verbose=1,  # Verbosity mode. 0 or 1.\n",
    "        save_freq='epoch'  # Save the model at the end of every epoch\n",
    "    ),\n",
    "    tf.keras.callbacks.EarlyStopping(\n",
    "        patience=3,  # Number of epochs with no improvement after which training will be stopped\n",
    "        monitor='val_binary_accuracy',  # Quantity to be monitored\n",
    "        restore_best_weights=True  # Restore model weights from the epoch with the best value of the monitored quantity\n",
    "    ),\n",
    "    tf.keras.callbacks.ReduceLROnPlateau(\n",
    "        monitor='val_binary_accuracy',  # Quantity to be monitored\n",
    "        factor=0.5,  # Factor by which the learning rate will be reduced. new_lr = lr * factor\n",
    "        patience=5,  # Number of epochs with no improvement after which learning rate will be reduced\n",
    "        min_lr=1e-7  # Lower bound on the learning rate\n",
    "    )\n",
    "]"
   ]
  },
  {
   "cell_type": "code",
   "execution_count": 17,
   "id": "e340a227",
   "metadata": {
    "execution": {
     "iopub.execute_input": "2024-04-03T16:39:25.090646Z",
     "iopub.status.busy": "2024-04-03T16:39:25.090403Z",
     "iopub.status.idle": "2024-04-03T16:39:25.322799Z",
     "shell.execute_reply": "2024-04-03T16:39:25.321858Z"
    },
    "id": "6GJaFnkbMtPL",
    "outputId": "83dad392-eb4c-481b-fd54-5955c91c1197",
    "papermill": {
     "duration": 0.249292,
     "end_time": "2024-04-03T16:39:25.324918",
     "exception": false,
     "start_time": "2024-04-03T16:39:25.075626",
     "status": "completed"
    },
    "tags": []
   },
   "outputs": [
    {
     "data": {
      "image/png": "[encoded data removed]",
      "text/plain": [
       "<IPython.core.display.Image object>"
      ]
     },
     "execution_count": 17,
     "metadata": {},
     "output_type": "execute_result"
    }
   ],
   "source": [
    "# Plot the model architecture\n",
    "tf.keras.utils.plot_model(model, dpi=100)"
   ]
  },
  {
   "cell_type": "code",
   "execution_count": null,
   "id": "8cbe7872",
   "metadata": {
    "papermill": {
     "duration": 0.013948,
     "end_time": "2024-04-03T16:39:25.354571",
     "exception": false,
     "start_time": "2024-04-03T16:39:25.340623",
     "status": "completed"
    },
    "tags": []
   },
   "outputs": [],
   "source": []
  },
  {
   "cell_type": "code",
   "execution_count": 18,
   "id": "ab13ab85",
   "metadata": {
    "execution": {
     "iopub.execute_input": "2024-04-03T16:39:25.384035Z",
     "iopub.status.busy": "2024-04-03T16:39:25.383712Z",
     "iopub.status.idle": "2024-04-03T16:40:00.076942Z",
     "shell.execute_reply": "2024-04-03T16:40:00.075564Z"
    },
    "id": "OcREcgPUHr9O",
    "outputId": "c9fa3758-6c20-4158-d22c-18da8aa40dac",
    "papermill": {
     "duration": 34.764934,
     "end_time": "2024-04-03T16:40:00.133493",
     "exception": true,
     "start_time": "2024-04-03T16:39:25.368559",
     "status": "failed"
    },
    "tags": []
   },
   "outputs": [
    {
     "name": "stdout",
     "output_type": "stream",
     "text": [
      "Epoch 1/2\n"
     ]
    },
    {
     "ename": "InvalidArgumentError",
     "evalue": "Graph execution error:\n\nDetected at node data defined at (most recent call last):\n<stack traces unavailable>\nDetected at node data defined at (most recent call last):\n<stack traces unavailable>\nDetected unsupported operations when trying to compile graph __inference_one_step_on_data_51198[] on XLA_GPU_JIT: _Arg (No registered '_Arg' OpKernel for XLA_GPU_JIT devices compatible with node {{node data}}\n\t (OpKernel was found, but attributes didn't match) Requested Attributes: T=DT_STRING, _output_shapes=[[32,1]], _user_specified_name=\"data\", index=0){{node data}}\nThe op is created at: \nFile \"opt/conda/lib/python3.10/runpy.py\", line 196, in _run_module_as_main\nFile \"opt/conda/lib/python3.10/runpy.py\", line 86, in _run_code\nFile \"opt/conda/lib/python3.10/site-packages/ipykernel_launcher.py\", line 17, in <module>\nFile \"opt/conda/lib/python3.10/site-packages/traitlets/config/application.py\", line 1043, in launch_instance\nFile \"opt/conda/lib/python3.10/site-packages/ipykernel/kernelapp.py\", line 701, in start\nFile \"opt/conda/lib/python3.10/site-packages/tornado/platform/asyncio.py\", line 195, in start\nFile \"opt/conda/lib/python3.10/asyncio/base_events.py\", line 603, in run_forever\nFile \"opt/conda/lib/python3.10/asyncio/base_events.py\", line 1909, in _run_once\nFile \"opt/conda/lib/python3.10/asyncio/events.py\", line 80, in _run\nFile \"opt/conda/lib/python3.10/site-packages/ipykernel/kernelbase.py\", line 534, in dispatch_queue\nFile \"opt/conda/lib/python3.10/site-packages/ipykernel/kernelbase.py\", line 523, in process_one\nFile \"opt/conda/lib/python3.10/site-packages/ipykernel/kernelbase.py\", line 429, in dispatch_shell\nFile \"opt/conda/lib/python3.10/site-packages/ipykernel/kernelbase.py\", line 767, in execute_request\nFile \"opt/conda/lib/python3.10/site-packages/ipykernel/ipkernel.py\", line 429, in do_execute\nFile \"opt/conda/lib/python3.10/site-packages/ipykernel/zmqshell.py\", line 549, in run_cell\nFile \"opt/conda/lib/python3.10/site-packages/IPython/core/interactiveshell.py\", line 3051, in run_cell\nFile \"opt/conda/lib/python3.10/site-packages/IPython/core/interactiveshell.py\", line 3106, in _run_cell\nFile \"opt/conda/lib/python3.10/site-packages/IPython/core/async_helpers.py\", line 129, in _pseudo_sync_runner\nFile \"opt/conda/lib/python3.10/site-packages/IPython/core/interactiveshell.py\", line 3311, in run_cell_async\nFile \"opt/conda/lib/python3.10/site-packages/IPython/core/interactiveshell.py\", line 3493, in run_ast_nodes\nFile \"opt/conda/lib/python3.10/site-packages/IPython/core/interactiveshell.py\", line 3553, in run_code\nFile \"tmp/ipykernel_26/4210623540.py\", line 3, in <module>\nFile \"opt/conda/lib/python3.10/site-packages/keras/src/utils/traceback_utils.py\", line 118, in error_handler\nFile \"opt/conda/lib/python3.10/site-packages/keras/src/backend/tensorflow/trainer.py\", line 323, in fit\nFile \"opt/conda/lib/python3.10/site-packages/keras/src/backend/tensorflow/trainer.py\", line 117, in one_step_on_iterator\nFile \"opt/conda/lib/python3.10/site-packages/tensorflow/core/function/polymorphism/function_type.py\", line 356, in placeholder_arguments\nFile \"opt/conda/lib/python3.10/site-packages/tensorflow/core/function/trace_type/default_types.py\", line 250, in placeholder_value\nFile \"opt/conda/lib/python3.10/site-packages/tensorflow/core/function/trace_type/default_types.py\", line 251, in <listcomp>\n\ttf2xla conversion failed while converting __inference_one_step_on_data_51198[]. Run with TF_DUMP_GRAPH_PREFIX=/path/to/dump/dir and --vmodule=xla_compiler=2 to obtain a dump of the compiled functions.\n\t [[StatefulPartitionedCall]] [Op:__inference_one_step_on_iterator_52531]",
     "output_type": "error",
     "traceback": [
      "\u001b[0;31m---------------------------------------------------------------------------\u001b[0m",
      "\u001b[0;31mInvalidArgumentError\u001b[0m                      Traceback (most recent call last)",
      "Cell \u001b[0;32mIn[18], line 3\u001b[0m\n\u001b[1;32m      1\u001b[0m \u001b[38;5;66;03m# Train model\u001b[39;00m\n\u001b[1;32m      2\u001b[0m epochs \u001b[38;5;241m=\u001b[39m \u001b[38;5;241m2\u001b[39m\n\u001b[0;32m----> 3\u001b[0m history \u001b[38;5;241m=\u001b[39m \u001b[43mmodel\u001b[49m\u001b[38;5;241;43m.\u001b[39;49m\u001b[43mfit\u001b[49m\u001b[43m(\u001b[49m\u001b[43mX_train\u001b[49m\u001b[43m,\u001b[49m\u001b[43m \u001b[49m\n\u001b[1;32m      4\u001b[0m \u001b[43m                    \u001b[49m\u001b[43my_train\u001b[49m\u001b[43m,\u001b[49m\n\u001b[1;32m      5\u001b[0m \u001b[43m                    \u001b[49m\u001b[43mepochs\u001b[49m\u001b[38;5;241;43m=\u001b[39;49m\u001b[43mepochs\u001b[49m\u001b[43m,\u001b[49m\n\u001b[1;32m      6\u001b[0m \u001b[43m                    \u001b[49m\u001b[43mverbose\u001b[49m\u001b[38;5;241;43m=\u001b[39;49m\u001b[38;5;241;43m1\u001b[39;49m\u001b[43m,\u001b[49m\n\u001b[1;32m      7\u001b[0m \u001b[43m                    \u001b[49m\u001b[43mcallbacks\u001b[49m\u001b[38;5;241;43m=\u001b[39;49m\u001b[43mcallbacks\u001b[49m\n\u001b[1;32m      8\u001b[0m \u001b[43m                   \u001b[49m\u001b[43m)\u001b[49m\n",
      "File \u001b[0;32m/opt/conda/lib/python3.10/site-packages/keras/src/utils/traceback_utils.py:123\u001b[0m, in \u001b[0;36mfilter_traceback.<locals>.error_handler\u001b[0;34m(*args, **kwargs)\u001b[0m\n\u001b[1;32m    120\u001b[0m     filtered_tb \u001b[38;5;241m=\u001b[39m _process_traceback_frames(e\u001b[38;5;241m.\u001b[39m__traceback__)\n\u001b[1;32m    121\u001b[0m     \u001b[38;5;66;03m# To get the full stack trace, call:\u001b[39;00m\n\u001b[1;32m    122\u001b[0m     \u001b[38;5;66;03m# `keras.config.disable_traceback_filtering()`\u001b[39;00m\n\u001b[0;32m--> 123\u001b[0m     \u001b[38;5;28;01mraise\u001b[39;00m e\u001b[38;5;241m.\u001b[39mwith_traceback(filtered_tb) \u001b[38;5;28;01mfrom\u001b[39;00m \u001b[38;5;28;01mNone\u001b[39;00m\n\u001b[1;32m    124\u001b[0m \u001b[38;5;28;01mfinally\u001b[39;00m:\n\u001b[1;32m    125\u001b[0m     \u001b[38;5;28;01mdel\u001b[39;00m filtered_tb\n",
      "File \u001b[0;32m/opt/conda/lib/python3.10/site-packages/tensorflow/python/eager/execute.py:53\u001b[0m, in \u001b[0;36mquick_execute\u001b[0;34m(op_name, num_outputs, inputs, attrs, ctx, name)\u001b[0m\n\u001b[1;32m     51\u001b[0m \u001b[38;5;28;01mtry\u001b[39;00m:\n\u001b[1;32m     52\u001b[0m   ctx\u001b[38;5;241m.\u001b[39mensure_initialized()\n\u001b[0;32m---> 53\u001b[0m   tensors \u001b[38;5;241m=\u001b[39m pywrap_tfe\u001b[38;5;241m.\u001b[39mTFE_Py_Execute(ctx\u001b[38;5;241m.\u001b[39m_handle, device_name, op_name,\n\u001b[1;32m     54\u001b[0m                                       inputs, attrs, num_outputs)\n\u001b[1;32m     55\u001b[0m \u001b[38;5;28;01mexcept\u001b[39;00m core\u001b[38;5;241m.\u001b[39m_NotOkStatusException \u001b[38;5;28;01mas\u001b[39;00m e:\n\u001b[1;32m     56\u001b[0m   \u001b[38;5;28;01mif\u001b[39;00m name \u001b[38;5;129;01mis\u001b[39;00m \u001b[38;5;129;01mnot\u001b[39;00m \u001b[38;5;28;01mNone\u001b[39;00m:\n",
      "\u001b[0;31mInvalidArgumentError\u001b[0m: Graph execution error:\n\nDetected at node data defined at (most recent call last):\n<stack traces unavailable>\nDetected at node data defined at (most recent call last):\n<stack traces unavailable>\nDetected unsupported operations when trying to compile graph __inference_one_step_on_data_51198[] on XLA_GPU_JIT: _Arg (No registered '_Arg' OpKernel for XLA_GPU_JIT devices compatible with node {{node data}}\n\t (OpKernel was found, but attributes didn't match) Requested Attributes: T=DT_STRING, _output_shapes=[[32,1]], _user_specified_name=\"data\", index=0){{node data}}\nThe op is created at: \nFile \"opt/conda/lib/python3.10/runpy.py\", line 196, in _run_module_as_main\nFile \"opt/conda/lib/python3.10/runpy.py\", line 86, in _run_code\nFile \"opt/conda/lib/python3.10/site-packages/ipykernel_launcher.py\", line 17, in <module>\nFile \"opt/conda/lib/python3.10/site-packages/traitlets/config/application.py\", line 1043, in launch_instance\nFile \"opt/conda/lib/python3.10/site-packages/ipykernel/kernelapp.py\", line 701, in start\nFile \"opt/conda/lib/python3.10/site-packages/tornado/platform/asyncio.py\", line 195, in start\nFile \"opt/conda/lib/python3.10/asyncio/base_events.py\", line 603, in run_forever\nFile \"opt/conda/lib/python3.10/asyncio/base_events.py\", line 1909, in _run_once\nFile \"opt/conda/lib/python3.10/asyncio/events.py\", line 80, in _run\nFile \"opt/conda/lib/python3.10/site-packages/ipykernel/kernelbase.py\", line 534, in dispatch_queue\nFile \"opt/conda/lib/python3.10/site-packages/ipykernel/kernelbase.py\", line 523, in process_one\nFile \"opt/conda/lib/python3.10/site-packages/ipykernel/kernelbase.py\", line 429, in dispatch_shell\nFile \"opt/conda/lib/python3.10/site-packages/ipykernel/kernelbase.py\", line 767, in execute_request\nFile \"opt/conda/lib/python3.10/site-packages/ipykernel/ipkernel.py\", line 429, in do_execute\nFile \"opt/conda/lib/python3.10/site-packages/ipykernel/zmqshell.py\", line 549, in run_cell\nFile \"opt/conda/lib/python3.10/site-packages/IPython/core/interactiveshell.py\", line 3051, in run_cell\nFile \"opt/conda/lib/python3.10/site-packages/IPython/core/interactiveshell.py\", line 3106, in _run_cell\nFile \"opt/conda/lib/python3.10/site-packages/IPython/core/async_helpers.py\", line 129, in _pseudo_sync_runner\nFile \"opt/conda/lib/python3.10/site-packages/IPython/core/interactiveshell.py\", line 3311, in run_cell_async\nFile \"opt/conda/lib/python3.10/site-packages/IPython/core/interactiveshell.py\", line 3493, in run_ast_nodes\nFile \"opt/conda/lib/python3.10/site-packages/IPython/core/interactiveshell.py\", line 3553, in run_code\nFile \"tmp/ipykernel_26/4210623540.py\", line 3, in <module>\nFile \"opt/conda/lib/python3.10/site-packages/keras/src/utils/traceback_utils.py\", line 118, in error_handler\nFile \"opt/conda/lib/python3.10/site-packages/keras/src/backend/tensorflow/trainer.py\", line 323, in fit\nFile \"opt/conda/lib/python3.10/site-packages/keras/src/backend/tensorflow/trainer.py\", line 117, in one_step_on_iterator\nFile \"opt/conda/lib/python3.10/site-packages/tensorflow/core/function/polymorphism/function_type.py\", line 356, in placeholder_arguments\nFile \"opt/conda/lib/python3.10/site-packages/tensorflow/core/function/trace_type/default_types.py\", line 250, in placeholder_value\nFile \"opt/conda/lib/python3.10/site-packages/tensorflow/core/function/trace_type/default_types.py\", line 251, in <listcomp>\n\ttf2xla conversion failed while converting __inference_one_step_on_data_51198[]. Run with TF_DUMP_GRAPH_PREFIX=/path/to/dump/dir and --vmodule=xla_compiler=2 to obtain a dump of the compiled functions.\n\t [[StatefulPartitionedCall]] [Op:__inference_one_step_on_iterator_52531]"
     ]
    }
   ],
   "source": [
    "# Train model\n",
    "epochs = 2\n",
    "history = model.fit(X_train, \n",
    "                    y_train,\n",
    "                    epochs=epochs,\n",
    "                    verbose=1,\n",
    "                    callbacks=callbacks\n",
    "                   )"
   ]
  },
  {
   "cell_type": "markdown",
   "id": "3b6d702d",
   "metadata": {
    "id": "kNZl1lx_cA5Y",
    "papermill": {
     "duration": null,
     "end_time": null,
     "exception": null,
     "start_time": null,
     "status": "pending"
    },
    "tags": []
   },
   "source": [
    "### 8. Evaluate the BERT Text Classification Model"
   ]
  },
  {
   "cell_type": "code",
   "execution_count": null,
   "id": "b95748e8",
   "metadata": {
    "execution": {
     "iopub.status.busy": "2024-04-03T16:35:55.117763Z",
     "iopub.status.idle": "2024-04-03T16:35:55.118109Z",
     "shell.execute_reply": "2024-04-03T16:35:55.117962Z",
     "shell.execute_reply.started": "2024-04-03T16:35:55.117948Z"
    },
    "id": "dCjgrUYH_IsE",
    "papermill": {
     "duration": null,
     "end_time": null,
     "exception": null,
     "start_time": null,
     "status": "pending"
    },
    "tags": []
   },
   "outputs": [],
   "source": [
    "import matplotlib.pyplot as plt\n",
    "\n",
    "def plot_graphs(history, metric):\n",
    "    plt.plot(history.history[metric])\n",
    "    #plt.plot(history.history['val_'+metric], '')\n",
    "    plt.xlabel(\"Epochs\")\n",
    "    plt.ylabel(metric)\n",
    "    #plt.legend([metric, 'val_'+metric])\n",
    "    plt.legend([metric])\n",
    "    plt.show()"
   ]
  },
  {
   "cell_type": "code",
   "execution_count": null,
   "id": "97b025d1",
   "metadata": {
    "execution": {
     "iopub.status.busy": "2024-04-03T16:35:55.119577Z",
     "iopub.status.idle": "2024-04-03T16:35:55.119919Z",
     "shell.execute_reply": "2024-04-03T16:35:55.119764Z",
     "shell.execute_reply.started": "2024-04-03T16:35:55.119750Z"
    },
    "id": "v6lrFRra_KmA",
    "outputId": "f419e4a5-f935-4cf1-8eba-2cd30f515410",
    "papermill": {
     "duration": null,
     "end_time": null,
     "exception": null,
     "start_time": null,
     "status": "pending"
    },
    "tags": []
   },
   "outputs": [],
   "source": [
    "plot_graphs(history, 'loss')"
   ]
  },
  {
   "cell_type": "code",
   "execution_count": null,
   "id": "138a77bd",
   "metadata": {
    "execution": {
     "iopub.status.busy": "2024-04-03T16:35:55.120991Z",
     "iopub.status.idle": "2024-04-03T16:35:55.121319Z",
     "shell.execute_reply": "2024-04-03T16:35:55.121168Z",
     "shell.execute_reply.started": "2024-04-03T16:35:55.121155Z"
    },
    "id": "opu9neBA_98R",
    "outputId": "e1b12c79-ff53-4f5a-c8b6-92e0b52a5b54",
    "papermill": {
     "duration": null,
     "end_time": null,
     "exception": null,
     "start_time": null,
     "status": "pending"
    },
    "tags": []
   },
   "outputs": [],
   "source": [
    "plot_graphs(history, 'binary_accuracy')"
   ]
  },
  {
   "cell_type": "markdown",
   "id": "d2d43d6c",
   "metadata": {
    "papermill": {
     "duration": null,
     "end_time": null,
     "exception": null,
     "start_time": null,
     "status": "pending"
    },
    "tags": []
   },
   "source": [
    "### 9. Sanity Checking"
   ]
  },
  {
   "cell_type": "code",
   "execution_count": null,
   "id": "ef243441",
   "metadata": {
    "execution": {
     "iopub.execute_input": "2024-04-03T15:35:55.613444Z",
     "iopub.status.busy": "2024-04-03T15:35:55.612419Z",
     "iopub.status.idle": "2024-04-03T15:35:55.651802Z",
     "shell.execute_reply": "2024-04-03T15:35:55.650398Z",
     "shell.execute_reply.started": "2024-04-03T15:35:55.613398Z"
    },
    "id": "hkhtCCgnUbY6",
    "outputId": "e0d850f3-7162-4b20-8411-f21cf02fe08e",
    "papermill": {
     "duration": null,
     "end_time": null,
     "exception": null,
     "start_time": null,
     "status": "pending"
    },
    "tags": []
   },
   "outputs": [],
   "source": [
    "sample_example = [\"why are americans racist?\", \"why are indians so black?\", \"have a great day!\"]\n",
    "preds = model.predict(sample_example)\n",
    "threshold = 0.5 #between 0 and 1\n",
    "\n",
    "\n",
    "[\"Positive Tweet\" if pred>=threshold else \"Negative Tweet\" for pred in preds]"
   ]
  },
  {
   "cell_type": "markdown",
   "id": "17cdfb6a",
   "metadata": {
    "id": "t1wgRroGD4xf",
    "papermill": {
     "duration": null,
     "end_time": null,
     "exception": null,
     "start_time": null,
     "status": "pending"
    },
    "tags": []
   },
   "source": [
    "### 10. Trying the Trained BERT Model on Test Data"
   ]
  },
  {
   "cell_type": "code",
   "execution_count": null,
   "id": "44e08d42",
   "metadata": {
    "execution": {
     "iopub.execute_input": "2024-03-04T10:04:20.700053Z",
     "iopub.status.busy": "2024-03-04T10:04:20.698918Z",
     "iopub.status.idle": "2024-03-04T10:04:20.705729Z",
     "shell.execute_reply": "2024-03-04T10:04:20.704539Z",
     "shell.execute_reply.started": "2024-03-04T10:04:20.700001Z"
    },
    "papermill": {
     "duration": null,
     "end_time": null,
     "exception": null,
     "start_time": null,
     "status": "pending"
    },
    "tags": []
   },
   "outputs": [],
   "source": [
    "print(X_test.shape)\n",
    "print(y_test.shape)"
   ]
  },
  {
   "cell_type": "code",
   "execution_count": null,
   "id": "0378dec0",
   "metadata": {
    "execution": {
     "iopub.execute_input": "2024-03-04T10:04:23.811876Z",
     "iopub.status.busy": "2024-03-04T10:04:23.81117Z",
     "iopub.status.idle": "2024-03-04T10:06:04.640957Z",
     "shell.execute_reply": "2024-03-04T10:06:04.639808Z",
     "shell.execute_reply.started": "2024-03-04T10:04:23.811841Z"
    },
    "papermill": {
     "duration": null,
     "end_time": null,
     "exception": null,
     "start_time": null,
     "status": "pending"
    },
    "tags": []
   },
   "outputs": [],
   "source": [
    "y_predict=model.predict(X_test)"
   ]
  },
  {
   "cell_type": "code",
   "execution_count": null,
   "id": "cab61c69",
   "metadata": {
    "execution": {
     "iopub.execute_input": "2024-03-04T10:06:04.643568Z",
     "iopub.status.busy": "2024-03-04T10:06:04.643191Z",
     "iopub.status.idle": "2024-03-04T10:06:04.649958Z",
     "shell.execute_reply": "2024-03-04T10:06:04.648831Z",
     "shell.execute_reply.started": "2024-03-04T10:06:04.643541Z"
    },
    "papermill": {
     "duration": null,
     "end_time": null,
     "exception": null,
     "start_time": null,
     "status": "pending"
    },
    "tags": []
   },
   "outputs": [],
   "source": [
    "y_predict.shape"
   ]
  },
  {
   "cell_type": "code",
   "execution_count": null,
   "id": "9f99b0bf",
   "metadata": {
    "execution": {
     "iopub.execute_input": "2024-03-04T10:06:04.651518Z",
     "iopub.status.busy": "2024-03-04T10:06:04.651095Z",
     "iopub.status.idle": "2024-03-04T10:06:04.712902Z",
     "shell.execute_reply": "2024-03-04T10:06:04.711839Z",
     "shell.execute_reply.started": "2024-03-04T10:06:04.651491Z"
    },
    "papermill": {
     "duration": null,
     "end_time": null,
     "exception": null,
     "start_time": null,
     "status": "pending"
    },
    "tags": []
   },
   "outputs": [],
   "source": [
    "threshold = 0.5\n",
    "preds = [1 if pred[0]>=threshold else 0 for pred in y_predict]"
   ]
  },
  {
   "cell_type": "markdown",
   "id": "fb828185",
   "metadata": {
    "id": "rEWbDMrvUKRH",
    "papermill": {
     "duration": null,
     "end_time": null,
     "exception": null,
     "start_time": null,
     "status": "pending"
    },
    "tags": []
   },
   "source": [
    "### 11. Performance on Test Data"
   ]
  },
  {
   "cell_type": "code",
   "execution_count": null,
   "id": "04c4b013",
   "metadata": {
    "execution": {
     "iopub.execute_input": "2024-03-04T10:10:26.615395Z",
     "iopub.status.busy": "2024-03-04T10:10:26.61493Z",
     "iopub.status.idle": "2024-03-04T10:10:26.629874Z",
     "shell.execute_reply": "2024-03-04T10:10:26.628748Z",
     "shell.execute_reply.started": "2024-03-04T10:10:26.615362Z"
    },
    "papermill": {
     "duration": null,
     "end_time": null,
     "exception": null,
     "start_time": null,
     "status": "pending"
    },
    "tags": []
   },
   "outputs": [],
   "source": [
    "from sklearn.metrics import accuracy_score\n",
    "accuracy = accuracy_score(y_test, preds)\n",
    "\n",
    "print(\"Binary Accuracy on Test Data:\", round(accuracy*100, 3))"
   ]
  }
 ],
 "metadata": {
  "accelerator": "GPU",
  "colab": {
   "gpuType": "T4",
   "provenance": []
  },
  "kaggle": {
   "accelerator": "nvidiaTeslaT4",
   "dataSources": [
    {
     "databundleVersionId": 4140,
     "datasetId": 2477,
     "sourceId": 4140,
     "sourceType": "datasetVersion"
    },
    {
     "databundleVersionId": 4932971,
     "modelInstanceId": 2180,
     "sourceId": 2938,
     "sourceType": "modelInstanceVersion"
    },
    {
     "databundleVersionId": 4910287,
     "modelInstanceId": 1910,
     "sourceId": 2644,
     "sourceType": "modelInstanceVersion"
    },
    {
     "databundleVersionId": 7429172,
     "modelInstanceId": 4675,
     "sourceId": 6054,
     "sourceType": "modelInstanceVersion"
    },
    {
     "databundleVersionId": 7429181,
     "modelInstanceId": 4678,
     "sourceId": 6057,
     "sourceType": "modelInstanceVersion"
    }
   ],
   "dockerImageVersionId": 30664,
   "isGpuEnabled": true,
   "isInternetEnabled": false,
   "language": "python",
   "sourceType": "notebook"
  },
  "kernelspec": {
   "display_name": "Python 3",
   "language": "python",
   "name": "python3"
  },
  "language_info": {
   "codemirror_mode": {
    "name": "ipython",
    "version": 3
   },
   "file_extension": ".py",
   "mimetype": "text/x-python",
   "name": "python",
   "nbconvert_exporter": "python",
   "pygments_lexer": "ipython3",
   "version": "3.10.13"
  },
  "papermill": {
   "default_parameters": {},
   "duration": 82.463487,
   "end_time": "2024-04-03T16:40:03.938174",
   "environment_variables": {},
   "exception": true,
   "input_path": "__notebook__.ipynb",
   "output_path": "__notebook__.ipynb",
   "parameters": {},
   "start_time": "2024-04-03T16:38:41.474687",
   "version": "2.5.0"
  }
 },
 "nbformat": 4,
 "nbformat_minor": 5
}
